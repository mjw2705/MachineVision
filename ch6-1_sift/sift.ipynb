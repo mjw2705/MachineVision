{
 "cells": [
  {
   "cell_type": "markdown",
   "metadata": {
    "collapsed": true,
    "pycharm": {
     "name": "#%% md\n"
    }
   },
   "source": [
    "## SIFT(Scale Invariant Feature Transform)\n",
    "\n",
    "- 이미지의 scale, rotation(회전) 및 translation(이동)에 robust(불변)한 특징점을 추출하는 알고리즘\n",
    "\n",
    "1. step1: Scale-space extrema(극점) detection\n",
    "    1. scale-space 만들기\n",
    "\n",
    "        scale-space : 원본 이미지를 다양한 크기로 resize해서 image pyramid를 만들었을 때, 각 층의 이미지(octave image)를 점점 커지는 σ(가우시안 blur scale factor)로 blurring을 해 얻은 이미지들\n",
    "   <img src=\"img/scale-space.PNG\" alt='scale-space' width=\"60%\" height=\"60%\">\n",
    "\n",
    "    2. Difference of Gaussian(DoG)이미지 연산\n",
    "\n",
    "        같은 octave 내 서로 다른 두개의 gaussian blur image로 빼기 연산 수행\n",
    "    <img src=\"img/Dog.PNG\" alt='Dog' width=\"60%\" height=\"60%\">\n",
    "\n",
    "    3. extrema detection\n",
    "\n",
    "        $DoG_target$에서 총 26개의 주변 pixel값과 비교했을 때, 극소점이나 극대점이라 판단되면 keypoint 후보군으로 분류\n",
    "    <img src=\"img/target.PNG\" alt='target' width=\"60%\" height=\"60%\">\n",
    "\n",
    "2. step2: Keypoint localization\n",
    "\n",
    "    후보 keypoint 중 활용가치가 떨어지는 것들은 제거, 코너에 위치한 keypoint만 남기기 → scale에 불변한 keypoint들을 얻을 수 있음\n",
    "\n",
    "3. step3: Orientation assignment\n",
    "\n",
    "    keypoint들에 방향을 할당해주어 rotation에 불변하게 해줌\n",
    "    1. 각 keypoint의 주변에 윈도우를 만들어주고 가우시안 블러링을 해줌\n",
    "    2. 윈도우 안의 모든 픽셀들의 그레디언트 방향과 크기를 구함\n",
    "    3. 가로축이 방향, 세로축이 크기인 히스토그램을 그렸을 때, 가장 큰 값을 가지는 방향을 keypoint의 방향으로 설정\n",
    "    4. 만약 가장 큰 keypoint 방향의 80%보다 큰 각도가 존재하면 그 각도도 keypoint의 방향으로 설정 (한 keypoint에 여러 방향을 가질 수 있음)\n",
    "\n",
    "    <img src=\"img/histo.PNG\" alt='histo' width=\"60%\" height=\"60%\">\n",
    "\n",
    "4. step4: Keypoint descriptor\n",
    "    keypoint을 식별하기 위한 descriptor 생성\n",
    "    1. keypoint를 중심으로 16개 윈도우 세팅, 한 윈도우는 4x4 크기의 작은 윈도우로 구성\n",
    "    2. 16개 윈도우로 8개 bin을 가진 히스토그램을 생성\n",
    "    3. 16x8=128개의 벡터가 descriptor가 됨\n",
    "\n",
    "    <img src=\"img/window.PNG\" alt='window' width=\"60%\" height=\"60%\">\n"
   ]
  }
 ],
 "metadata": {
  "kernelspec": {
   "display_name": "Python 3",
   "language": "python",
   "name": "python3"
  },
  "language_info": {
   "codemirror_mode": {
    "name": "ipython",
    "version": 2
   },
   "file_extension": ".py",
   "mimetype": "text/x-python",
   "name": "python",
   "nbconvert_exporter": "python",
   "pygments_lexer": "ipython2",
   "version": "2.7.6"
  }
 },
 "nbformat": 4,
 "nbformat_minor": 0
}