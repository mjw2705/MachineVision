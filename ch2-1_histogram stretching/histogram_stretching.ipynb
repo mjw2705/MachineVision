{
 "cells": [
  {
   "cell_type": "markdown",
   "metadata": {
    "collapsed": true,
    "pycharm": {
     "name": "#%% md\n"
    }
   },
   "source": [
    "## 1. contrast (대비 or 명암)\n",
    "\n",
    "    - contrast는 물체를 식별할 수 있도록 하는 휘도(luminance) 또는 색(color)의 차이\n",
    "\n",
    "<img src=\"img/contrast.jpg\" alt='contrast' width=\"40%\" height=\"40%\">\n",
    "\n",
    "#### dynamic range (동적 범위)\n",
    "     이미지의 maximum contrast를 dynamic range라고 함\n",
    "     카메라는 재현할 수 있는 dynamic range에 한계가 있음\n",
    "     → 명암의 대비가 큰 장면을 눈으로 볼 때와 사진으로 볼 때 차이가 존재\n",
    "\n",
    "#### low contrast vs high contrast\n",
    "    contrast가 낮으면 물체 간의 구분력이 떨어짐\n",
    "<img src=\"img/low_high_contrast.png\" alt='low_high_contrast' width=\"50%\" height=\"50%\">\n",
    "\n",
    "#### HDR (High Dynamic Range)\n",
    "    순간적으로 노출이 다른 장면을 촬영하여 밝은 곳과 어두운 곳이 모두 잘보이게끔 합성하는 이미지 후처리 방식\n",
    "<img src=\"img/hdr.jpg\" alt='hdr' width=\"50%\" height=\"50%\">"
   ]
  },
  {
   "cell_type": "markdown",
   "source": [
    "코드 실습"
   ],
   "metadata": {
    "collapsed": false,
    "pycharm": {
     "name": "#%% md\n"
    }
   }
  },
  {
   "cell_type": "code",
   "execution_count": 9,
   "outputs": [
    {
     "data": {
      "text/plain": "<Figure size 432x288 with 1 Axes>",
      "image/png": "[encoded data removed]"
     },
     "metadata": {
      "needs_background": "light"
     },
     "output_type": "display_data"
    }
   ],
   "source": [
    "import cv2\n",
    "import numpy as np\n",
    "import matplotlib.pyplot as plt\n",
    "%matplotlib inline\n",
    "\n",
    "img = cv2.imread('landscape.jpg')\n",
    "\n",
    "# 히스토그램 생성\n",
    "hist, bins = np.histogram(img, 256, [0, 256])\n",
    "# 정규화된 누적 히스토그램 생성\n",
    "cdf = hist.cumsum()\n",
    "cdf_normalized = cdf * hist.max() / cdf.max()\n",
    "\n",
    "plt.plot(cdf_normalized, color='b')\n",
    "plt.hist(img.flatten(), 256, [0,256], color='r')\n",
    "plt.legend(['cdf', 'histogram'], loc='upper left')\n",
    "plt.show()\n",
    "\n",
    "cv2.imshow('image', img)\n",
    "cv2.waitKey()\n",
    "cv2.destroyAllWindows()"
   ],
   "metadata": {
    "collapsed": false,
    "pycharm": {
     "name": "#%%\n"
    }
   }
  },
  {
   "cell_type": "code",
   "execution_count": null,
   "outputs": [],
   "source": [],
   "metadata": {
    "collapsed": false,
    "pycharm": {
     "name": "#%%\n"
    }
   }
  }
 ],
 "metadata": {
  "kernelspec": {
   "display_name": "Python 3",
   "language": "python",
   "name": "python3"
  },
  "language_info": {
   "codemirror_mode": {
    "name": "ipython",
    "version": 2
   },
   "file_extension": ".py",
   "mimetype": "text/x-python",
   "name": "python",
   "nbconvert_exporter": "python",
   "pygments_lexer": "ipython2",
   "version": "2.7.6"
  }
 },
 "nbformat": 4,
 "nbformat_minor": 0
}