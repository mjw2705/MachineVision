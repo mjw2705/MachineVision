{
 "cells": [
  {
   "cell_type": "markdown",
   "metadata": {
    "collapsed": true,
    "pycharm": {
     "name": "#%% md\n"
    }
   },
   "source": [
    "## 1. contrast (대비 or 명암)\n",
    "\n",
    "    - contrast는 물체를 식별할 수 있도록 하는 휘도(luminance) 또는 색(color)의 차이\n",
    "\n",
    "![contrast](img/contrast.jpg)\n",
    "\n",
    "    - low contrast vs high contrast\n",
    "        \n",
    "<img src=\"img/low_high_contrast.png\" alt='low_high_contrast' width=\"300\" height=\"300\">"
   ]
  },
  {
   "cell_type": "code",
   "execution_count": null,
   "outputs": [],
   "source": [],
   "metadata": {
    "collapsed": false,
    "pycharm": {
     "name": "#%%\n"
    }
   }
  }
 ],
 "metadata": {
  "kernelspec": {
   "display_name": "Python 3",
   "language": "python",
   "name": "python3"
  },
  "language_info": {
   "codemirror_mode": {
    "name": "ipython",
    "version": 2
   },
   "file_extension": ".py",
   "mimetype": "text/x-python",
   "name": "python",
   "nbconvert_exporter": "python",
   "pygments_lexer": "ipython2",
   "version": "2.7.6"
  }
 },
 "nbformat": 4,
 "nbformat_minor": 0
}