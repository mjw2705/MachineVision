{
 "cells": [
  {
   "cell_type": "markdown",
   "metadata": {
    "collapsed": true,
    "pycharm": {
     "name": "#%% md\n"
    }
   },
   "source": [
    "## Harris corner detection\n",
    "\n",
    "이미지 매칭 시 이미지 특징점들을 서로 비교\n",
    "이미지의 특징점(keypoints)으로 물체의 **모서리**나 **코너**를 검출\n",
    "\n",
    "해리스 코너 검출은 영상을 이동시키며 이동한 변화량(R) 계산\n",
    "\n",
    "2차 모멘트 행렬 A가 다음과 같을 때,\n",
    "\n",
    "<img src=\"img/func_a.jpg\" alt='funca'>\n",
    "\n",
    "A를 간단하게 표현하면,\n",
    "\n",
    "<img src=\"img/func_a1.jpg\" alt='funca1'>\n",
    "\n",
    "특징 가능성 R은\n",
    "\n",
    "<img src=\"img/func_r.jpg\" alt='funcr'>\n",
    "\n",
    "\n",
    "<img src=\"img/harris_region.jpg\" alt='region' width=\"50%\" height=\"50%\">"
   ]
  },
  {
   "cell_type": "code",
   "execution_count": null,
   "outputs": [],
   "source": [
    "import cv2\n",
    "import numpy as np\n",
    "\n"
   ],
   "metadata": {
    "collapsed": false,
    "pycharm": {
     "name": "#%%\n"
    }
   }
  }
 ],
 "metadata": {
  "kernelspec": {
   "display_name": "Python 3",
   "language": "python",
   "name": "python3"
  },
  "language_info": {
   "codemirror_mode": {
    "name": "ipython",
    "version": 2
   },
   "file_extension": ".py",
   "mimetype": "text/x-python",
   "name": "python",
   "nbconvert_exporter": "python",
   "pygments_lexer": "ipython2",
   "version": "2.7.6"
  }
 },
 "nbformat": 4,
 "nbformat_minor": 0
}