{
 "cells": [
  {
   "cell_type": "markdown",
   "metadata": {
    "collapsed": true,
    "pycharm": {
     "name": "#%% md\n"
    }
   },
   "source": [
    "### 1. 히스토그램 역투영 (Histogram backprojection)\n",
    "    - 기준 영상의 히스토그램 정보를 이용하여 입력 영상에서 찾고자 하는 물체를 검출하는 방법\n",
    "    - 컬러 분포로만 검출하는 방법\n",
    "    - 히스토그램을 매핑 함수로 사용하여, 화소 값을 신뢰도 값으로 변환 (화소값 → 모델 히스토그램 → 신뢰도 값)\n",
    "    - 영상의 각 픽셀이 주어진 히스토그램 모델에 얼마나 일치하는지 검사하는 것\n",
    "\n",
    "#### ex) 피부색 영역 검출하기\n",
    "- RGB 색상 공간 ⇒ HSL 색상 공간으로 변환\n",
    "    - H(Hue) : 색상\n",
    "    - S(Saturation) : 채도\n",
    "    - L(Lightness) : 밝기\n",
    "\n",
    "- 밝기(L)은 조명에 따라 쉽게 변하고 피부와 비슷한 밝기를 갖는 다른 영역이 여러군데 존재할 가능성이 높음\n",
    "- 따라서 밝기(L)은 무시하고 색상(H)과 채도(S)를 사용함"
   ]
  },
  {
   "cell_type": "markdown",
   "source": [
    "### 2. 수행 과정\n",
    "\n",
    "<img src=\"img/H-S histogram.JPG\" alt='histogram' width=\"40%\" height=\"40%\">\n",
    "\n",
    "- 기준 영상 m의 모델 얼굴에서 모델 히스토그램 $h_m$을 구하고 정규화\n",
    "- 새로운 입력 영상 i가 주어지면 $h_m$을 이용해서 피부색 영역 검출\n",
    "\n",
    "<img src=\"img/function.PNG\" alt='function' width=\"40%\" height=\"40%\">\n",
    "\n",
    "$\\hat{h_m}$ : 기준 영상의 정규화된 히스토그램\n",
    "$\\hat{h_i}$ : 타겟의 정규화된 히스토그램\n",
    "\n",
    "결과\n",
    "<img src=\"img/backprojection result.JPG\" alt='function' width=\"40%\" height=\"40%\">"
   ],
   "metadata": {
    "collapsed": false,
    "pycharm": {
     "name": "#%% md\n"
    }
   }
  },
  {
   "cell_type": "code",
   "execution_count": null,
   "outputs": [],
   "source": [],
   "metadata": {
    "collapsed": false,
    "pycharm": {
     "name": "#%%\n"
    }
   }
  }
 ],
 "metadata": {
  "kernelspec": {
   "display_name": "Python 3",
   "language": "python",
   "name": "python3"
  },
  "language_info": {
   "codemirror_mode": {
    "name": "ipython",
    "version": 2
   },
   "file_extension": ".py",
   "mimetype": "text/x-python",
   "name": "python",
   "nbconvert_exporter": "python",
   "pygments_lexer": "ipython2",
   "version": "2.7.6"
  }
 },
 "nbformat": 4,
 "nbformat_minor": 0
}